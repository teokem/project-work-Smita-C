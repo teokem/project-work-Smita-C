{
 "cells": [
  {
   "cell_type": "markdown",
   "metadata": {},
   "source": [
    "# Implications of Phase Space\n",
    "### Project work for Reproducible and Interactive Data Analysis and Modelling using Jupyter Notebook\n",
    "### Autumn 2017\n",
    "\n",
    " > Smita Chakraborty([smita.chakraborty@thep.lu.se](smita.chakraborty@thep.lu.se))  \n",
    " > K240, Department of Astronomy and Theoretical Physics,\n",
    " > Lund University\n",
    "\n",
    "    "
   ]
  },
  {
   "cell_type": "markdown",
   "metadata": {},
   "source": [
    "# What is a phase space?\n",
    "\n",
    "In a phase space, every degree of freedom or parameter of the system is represented as an axis of a multidimensional space; a one dimensional system is called a phase line, while a two dimensional system is called a phase plane. For every possible state of the system, or allowed combination values of the system's parameters, apoint is included in the multidimentional space. The phase space may contain a large number of dimensions, as in the case of a gaseous system which contains many molecules which may require a separate dimension for each particles x, y and z positions and momenta as well as any number other pro \n",
    "\n",
    "The system's evolving state over time traces a path through the high-dimensional space. The phase space trajectory represents the states of the system accessible through the one particular initial condition of the system, located in the full phase space that represents the set of states compatible with starting from any initial condition. \n",
    "As a whole the phase space signifies all that the system can be, and its shape can describe the qualities of the system which might not be apparent otherwise. \n",
    "\n",
    "\n",
    "\n",
    "\n",
    "As we go on with this topic, we will browse through the role of phase space in subjects like **classical mechanics**, **quantum mechanics** and **statistical mechanics**. \n",
    "\n",
    "\n",
    "\n",
    "#The Wikipedia [definition](https://en.wikipedia.org/wiki/Phase_space) of a phase space is:\n",
    "   \"A Phase Space of a dynamical system is a space in which all possible states of a system are represented, with each possible state corresponding to one point in the phase space...\"\n",
    "   \n",
    "### Mechanical Systems\n",
    "Phase-space in mechanical systems usually consist of all possible values of position and momentum variables of a particle. Phase space refers to the plotting of both the particle's momentum and position in a two dimensional graph. It also refers to the tracking of N particles in a 2N dimensional plane. In many cases, the variables used are the canonical variables in Hamiltonian mechanics which help to visualize the nature and stability of the system over the time scale. Hence much can be learnt about its thermodynamic and statistical propertis from these *phase space trajectories*.  \n",
    "   \n",
    "####   Static system\n",
    "As the position of a particle does not change when it is static, its momentum is zero. Hence, the plot of momentum versus position will have only a point which *does not* change with time- and the point will stay at the origin of the plot indefinitely following [*Newton's first law of motion*](http://www.physicsclassroom.com/class/newtlaws/Lesson-1/Newton-s-First-Law).  \n",
    "\n",
    "   \n",
    "####   Dynamical system\n",
    "A look into the phase space for a system can tell us much about the dynamics of the system namely, if its a conservative system executing a periodic motion or a non-conservative system acted upon by a dissipative force. We start to answer some questions on nature of phase-space:\n",
    "\n",
    "##### -Does it represent only one particle?\n",
    "Phase space can describe the orbit of one particle or the orbit of a large number of particles. It can be used to describe a large number of collections of N particles, where N itself can be a large number. So, the phase space can dscribe a system with *x* particles where *x* can be one or a larger number. \n",
    "\n",
    "##### -What can be known from phase space trajectory?\n",
    "Finally phase space can be used to describe the probability distributions of how collections of N particles behave if they are allowed to exchange particles and energy with the universe.\n",
    "\n",
    "We will see some examples now:\n",
    "##### Example 1: Single particle confined to one dimension creates a 2D phase space\n",
    "The most elementary phase space consists of a single particle confined to one dimensional motion, under the influence of a [conservative force field](http://farside.ph.utexas.edu/teaching/301/lectures/node59.html). Such a system can be modeled using **Hamiltonian methods**. A suitable Hamiltonian is the total energy, expressed as a function of position, _x_, and momentum, _p_:\n",
    "\\begin{align}\n",
    "H(p,x) = \\frac{p^2}{2m} + \\phi(x)\n",
    "\\end{align}\n",
    "For Hamiltonian mechanics, we have the equations of motion:\n",
    "\\begin{align}\n",
    "\\frac{dx}{dt}=\\frac{\\partial p}{\\partial t}\n",
    "\\end{align} \n",
    "and \n",
    "\\begin{align}\n",
    "\\frac{dp}{dt}= - \\frac{\\partial x}{\\partial t}\n",
    "\\end{align}\n",
    "and \n",
    "\\begin{align}\n",
    "\\frac{dH}{dt}=\\frac{\\partial H}{\\partial t}\n",
    "\\end{align}\n",
    "We can then see **Newton's equation of motion** follows:\n",
    "\\begin{align}\n",
    "\\frac{dx}{dt}=\\frac{p}{m}\n",
    "\\end{align}\n",
    "and \n",
    "\\begin{align}\n",
    "\\frac{dp}{dt}=-\\frac{\\partial \\phi}{\\partial x}\n",
    "\\end{align}\n",
    "and \n",
    "\\begin{align}\n",
    "\\frac{dE}{dt}= \\frac{\\partial H}{\\partial t}\n",
    "\\end{align}\n"
   ]
  },
  {
   "cell_type": "markdown",
   "metadata": {},
   "source": []
  },
  {
   "cell_type": "markdown",
   "metadata": {},
   "source": [
    "Wiki:\n",
    "# Introduction\n"
   ]
  },
  {
   "cell_type": "code",
   "execution_count": 10,
   "metadata": {},
   "outputs": [
    {
     "data": {
      "image/png": "[encoded data removed]",
      "text/plain": [
       "<matplotlib.figure.Figure at 0x7fa5cca4f4a8>"
      ]
     },
     "metadata": {},
     "output_type": "display_data"
    }
   ],
   "source": [
    "#this is not producing any plots\n",
    "from sympy import *\n",
    "import numpy as np\n",
    "import matplotlib as mpl\n",
    "import matplotlib.pyplot as plt\n",
    "t=np.arange(0,5,1)\n",
    "x=np.arange(0,5,1)\n",
    "x, t = symbols('x t')\n",
    "p = diff(x,t) \n",
    "\n",
    "\n",
    "\n",
    "\n",
    "plt.xlabel('Coordinate')\n",
    "plt.ylabel('Momentum')\n",
    "#plt.plot(x,p, linewidth=2.0)\n",
    "plt.show()"
   ]
  },
  {
   "cell_type": "code",
   "execution_count": 26,
   "metadata": {},
   "outputs": [],
   "source": [
    "#this is not working\n",
    "import numpy as np  \n",
    "import matplotlib.pyplot as plt  \n",
    "\n",
    "def graph(formula, t_range, x_range):  \n",
    "    t = np.array(t_range)  \n",
    "    x = np.array(x_range)\n",
    "    p = diff(x, t)\n",
    "    y = formula(x, p)  # <- note now we're calling the function 'formula' with x\n",
    "    plt.plot(x, p)  \n",
    "    plt.show()  \n",
    "\n",
    "def my_formula(x, p):\n",
    "    return x**2+p**2\n",
    "\n",
    "#graph(my_formula, range(-10, 11), range(-10, 11))\n",
    "#plt.contour(x, y, color='black');"
   ]
  },
  {
   "cell_type": "code",
   "execution_count": null,
   "metadata": {},
   "outputs": [],
   "source": []
  }
 ],
 "metadata": {
  "kernelspec": {
   "display_name": "Python 3",
   "language": "python",
   "name": "python3"
  },
  "language_info": {
   "codemirror_mode": {
    "name": "ipython",
    "version": 3
   },
   "file_extension": ".py",
   "mimetype": "text/x-python",
   "name": "python",
   "nbconvert_exporter": "python",
   "pygments_lexer": "ipython3",
   "version": "3.6.3"
  }
 },
 "nbformat": 4,
 "nbformat_minor": 2
}
